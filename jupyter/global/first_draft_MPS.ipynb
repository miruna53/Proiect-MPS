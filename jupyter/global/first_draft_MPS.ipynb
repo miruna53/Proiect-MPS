{
 "cells": [
  {
   "cell_type": "code",
   "execution_count": 2,
   "id": "57c9c8d6",
   "metadata": {},
   "outputs": [],
   "source": [
    "import pandas as pd\n",
    "import numpy as np\n",
    "import os\n",
    "import glob"
   ]
  },
  {
   "cell_type": "code",
   "execution_count": 74,
   "id": "0ba535d3",
   "metadata": {},
   "outputs": [
    {
     "name": "stdout",
     "output_type": "stream",
     "text": [
      "D:\\Facultate\\Anul IV\\sem 1\\MPS\\mps-global\\MPS-GLOBAL\n",
      "<class 'list'>\n",
      "1195 \n",
      "\n",
      "File Name: [AVE_INT] 10_1.CSV\n",
      "['0.496078', '0.633333', '0.570588', '0.567427', '0.868627', '0.865466', '0.892157', '0.629412', '0.861744', '0.613725', '0.703922', '0.719608', '0.719608.1', '0.872549', '0.719608.2', '0.790196'] \n",
      "\n",
      "['0.633333', '0.570588', '0.567427', '0.868627', '0.865466', '0.892157', '0.629412', '0.861744', '0.613725', '0.703922', '0.719608', '0.719608.1', '0.872549', '0.719608.2', '0.790196'] \n",
      "\n",
      "File Name: [AVE_INT] 10_10.CSV\n",
      "['0.484314', '0.449020', '0.449020.1', '0.416978', '0.692157', '0.693906', '0.715686', '0.476471', '0.692436', '0.449020.2', '0.570588', '0.578431', '0.578336', '0.539216', '0.574510', '0.629412'] \n",
      "\n",
      "['0.449020', '0.449020.1', '0.416978', '0.692157', '0.693906', '0.715686', '0.476471', '0.692436', '0.449020.2', '0.570588', '0.578431', '0.578336', '0.539216', '0.574510', '0.629412'] \n",
      "\n",
      "File Name: [AVE_INT] 10_11.CSV\n",
      "['0.484314', '0.417647', '0.417647.1', '0.421418', '0.417647.2', '0.686245', '0.719608', '0.476471', '0.684885', '0.417647.3', '0.566667', '0.590196', '0.590086', '0.539216', '0.586275', '0.633333'] \n",
      "\n",
      "['0.417647', '0.417647.1', '0.421418', '0.417647.2', '0.686245', '0.719608', '0.476471', '0.684885', '0.417647.3', '0.566667', '0.590196', '0.590086', '0.539216', '0.586275', '0.633333'] \n",
      "\n",
      "File Name: [AVE_INT] 10_12.CSV\n",
      "['0.500000', '0.715686', '0.884314', '0.638055', '0.896078', '0.854572', '0.927451', '0.649020', '0.676966', '0.688235', '0.723529', '0.754902', '0.762135', '0.703922', '0.762745', '0.813725'] \n",
      "\n",
      "['0.715686', '0.884314', '0.638055', '0.896078', '0.854572', '0.927451', '0.649020', '0.676966', '0.688235', '0.723529', '0.754902', '0.762135', '0.703922', '0.762745', '0.813725'] \n",
      "\n",
      "File Name: [AVE_INT] 10_13.CSV\n",
      "['0.492157', '0.645098', '0.758824', '0.599149', '0.684314', '0.644711', '0.888235', '0.633333', '0.613212', '0.625490', '0.715686', '0.758824.1', '0.758633', '0.680392', '0.758824.2', '0.790196'] \n",
      "\n",
      "['0.645098', '0.758824', '0.599149', '0.684314', '0.644711', '0.888235', '0.633333', '0.613212', '0.625490', '0.715686', '0.758824.1', '0.758633', '0.680392', '0.758824.2', '0.790196'] \n",
      "\n"
     ]
    }
   ],
   "source": [
    "path = os.getcwd()\n",
    "path += '\\mps-global\\MPS-GLOBAL'\n",
    "print(path)\n",
    "\n",
    "csv_files = glob.glob(os.path.join(path, \"*.csv\"))\n",
    "\n",
    "print(type(csv_files))\n",
    "print(len(csv_files), '\\n')\n",
    "\n",
    "# loop over the list of csv files\n",
    "for f in csv_files[0:5]:\n",
    "      \n",
    "    # read the csv file\n",
    "    df = pd.read_csv(f, nrows=0)\n",
    "    \n",
    "#     threshold_list = list(df) # Thresholduri -> prima linie din csv\n",
    "    threshold_list = df.columns.values.tolist() # faster than the approach used above\n",
    "#     https://datatofish.com/list-column-names-pandas-dataframe/\n",
    "    \n",
    "    print('File Name:', f.split(\"\\\\\")[-1])\n",
    "    print(threshold_list, '\\n')\n",
    "    \n",
    "    print(\"Optimal threshold: \", threshold_list[0])\n",
    "    print(threshold_list[1:], '\\n') \n",
    "#     print(df)\n",
    "#     print(df.values[:1])\n",
    "      \n",
    "#     # print the location and filename\n",
    "#     print('Location:', f)\n",
    "#     print('File Name:', f.split(\"\\\\\")[-1])\n",
    "      \n",
    "#     # print the content\n",
    "#     print('Content:')\n",
    "#     display(df)\n",
    "#     print()"
   ]
  },
  {
   "cell_type": "code",
   "execution_count": null,
   "id": "85636f9f",
   "metadata": {},
   "outputs": [],
   "source": []
  },
  {
   "cell_type": "code",
   "execution_count": null,
   "id": "0cb8712a",
   "metadata": {},
   "outputs": [],
   "source": []
  }
 ],
 "metadata": {
  "kernelspec": {
   "display_name": "Python 3",
   "language": "python",
   "name": "python3"
  },
  "language_info": {
   "codemirror_mode": {
    "name": "ipython",
    "version": 3
   },
   "file_extension": ".py",
   "mimetype": "text/x-python",
   "name": "python",
   "nbconvert_exporter": "python",
   "pygments_lexer": "ipython3",
   "version": "3.8.8"
  }
 },
 "nbformat": 4,
 "nbformat_minor": 5
}
